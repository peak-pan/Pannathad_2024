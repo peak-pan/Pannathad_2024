{
 "cells": [
  {
   "cell_type": "code",
   "execution_count": 1,
   "metadata": {},
   "outputs": [],
   "source": [
    "import json\n",
    "import numpy as np\n",
    "import re\n",
    "import utilities\n",
    "from thai_tokenizer import Tokenizer \n",
    "f2 = open('sad_song.json', encoding=\"utf8\")\n",
    "f = open('songlist.json', encoding=\"utf8\")"
   ]
  },
  {
   "cell_type": "markdown",
   "metadata": {},
   "source": [
    "Data set preparing\n",
    "- Extract Data from JSON\n",
    "    - 5 Happy songs\n",
    "    - 5 Sad songs"
   ]
  },
  {
   "cell_type": "code",
   "execution_count": 2,
   "metadata": {},
   "outputs": [],
   "source": [
    "dict_happy = json.load(f)\n",
    "f.close()\n",
    "dict_sad = json.load(f2)\n",
    "f2.close()"
   ]
  },
  {
   "cell_type": "code",
   "execution_count": 3,
   "metadata": {},
   "outputs": [],
   "source": [
    "happy_song = []\n",
    "sad_song = []\n",
    "for i in dict_happy:\n",
    "    happy_song.append(dict_happy[i])\n",
    "for j in dict_sad:\n",
    "    sad_song.append(dict_sad[j])\n"
   ]
  },
  {
   "cell_type": "code",
   "execution_count": 4,
   "metadata": {},
   "outputs": [
    {
     "name": "stdout",
     "output_type": "stream",
     "text": [
      "[1. 0.]\n"
     ]
    }
   ],
   "source": [
    "train_set = happy_song[:4] + sad_song[:4]\n",
    "test_set = happy_song[4:] + sad_song[4:]\n",
    "train_y = np.append(np.ones((len(happy_song[:4]), 1)), np.zeros((len(sad_song[:4]), 1)), axis=0)\n",
    "test_y = np.append(np.ones((len(happy_song[4:]), 1)), np.zeros((len(sad_song[4:]), 1)), axis=0)\n",
    "train_y2 = np.squeeze(train_y)\n",
    "test_y2 = np.squeeze(test_y)\n",
    "print(test_y2)"
   ]
  },
  {
   "cell_type": "code",
   "execution_count": 5,
   "metadata": {},
   "outputs": [],
   "source": [
    "tokenizer = Tokenizer()"
   ]
  },
  {
   "cell_type": "markdown",
   "metadata": {},
   "source": [
    "Model Class"
   ]
  },
  {
   "cell_type": "code",
   "execution_count": 6,
   "metadata": {},
   "outputs": [],
   "source": [
    "class Is_this_a_sad_song_naive_bayes:\n",
    "    def __init__(self,train_X, train_Y, test_X, test_Y) -> None:\n",
    "        self.X = train_X\n",
    "        self.Y = train_Y\n",
    "        self.x = test_X\n",
    "        self.y = test_y\n",
    "        self.freqs = utilities.build_freq(train_y2,train_X)\n",
    "        self.loglikelihood = {}\n",
    "        self.logprior = 0\n",
    "    def naive_bayes(self):\n",
    "        vocab = set(x[0] for x in self.freqs)\n",
    "        V = len(vocab)\n",
    "        positive_cnts = 0\n",
    "        negative_cnts = 0\n",
    "        for pair in self.freqs.keys():\n",
    "            if pair[1] >0:\n",
    "                positive_cnts += self.freqs[pair]\n",
    "            else:\n",
    "                negative_cnts += self.freqs[pair]\n",
    "        \n",
    "        D = len(self.Y)\n",
    "        positive_doc = list(self.Y).count(1)\n",
    "        negative_doc = list(self.Y).count(0)\n",
    "        self.logprior = np.log(positive_doc/negative_doc)\n",
    "        for w in vocab:\n",
    "            positive_freq = self.freqs.get((w, 1), 0)\n",
    "            negative_freq = self.freqs.get((w, 0), 0)\n",
    "\n",
    "            p_w_pos = (positive_freq + 1)/(positive_cnts + V)\n",
    "            p_w_neg = (negative_freq + 1)/(negative_cnts + V)\n",
    "\n",
    "            self.loglikelihood[w] = np.log(p_w_pos/p_w_neg)\n",
    "\n",
    "    \n",
    "    def predict(self,song,Process=utilities.Process):\n",
    "        word_l = Process(song)\n",
    "        p = 0\n",
    "        p += self.logprior\n",
    "\n",
    "        for word in word_l:\n",
    "            if word in self.loglikelihood:\n",
    "                p += self.loglikelihood[word]\n",
    "        return p\n",
    "    def test_naive_bayes(self):\n",
    "        accuracy = 0  # return this properly\n",
    "\n",
    "        y_hats = []\n",
    "        for tweet in self.x:\n",
    "            # if the prediction is > 0\n",
    "            if self.predict(tweet) > 0:\n",
    "                # the predicted class is 1\n",
    "                y_hat_i = 1\n",
    "            else:\n",
    "                # otherwise the predicted class is 0\n",
    "                y_hat_i = 0\n",
    "\n",
    "            # append the predicted class to the list y_hats\n",
    "            y_hats.append(y_hat_i)\n",
    "\n",
    "\n",
    "        # error is the average of the absolute values of the differences between y_hats and test_y\n",
    "        error = np.sum(abs(test_y2-y_hats))/len(self.y)\n",
    "        # Accuracy is 1 minus the error\n",
    "        accuracy = 1-error\n",
    "        return accuracy\n",
    "    \n",
    "    def predict_result(self,song):\n",
    "        p = self.predict(song)\n",
    "        acc = self.test_naive_bayes()\n",
    "        if p > 0:\n",
    "            return print('Lyric:',song,' is not a sad song :D with accuracy = ',acc)\n",
    "        else:\n",
    "            return print('Lyric:',song,' is  a sad song ToT with accuracy = ',acc)\n",
    "        \n",
    "        "
   ]
  },
  {
   "cell_type": "markdown",
   "metadata": {},
   "source": [
    "Building Model"
   ]
  },
  {
   "cell_type": "code",
   "execution_count": 7,
   "metadata": {},
   "outputs": [],
   "source": [
    "MODEL = Is_this_a_sad_song_naive_bayes(train_set,train_y,test_set,test_y)\n",
    "MODEL.naive_bayes() # train via naive bayes model"
   ]
  },
  {
   "cell_type": "markdown",
   "metadata": {},
   "source": [
    "Predict result "
   ]
  },
  {
   "cell_type": "code",
   "execution_count": 8,
   "metadata": {},
   "outputs": [
    {
     "name": "stdout",
     "output_type": "stream",
     "text": [
      "Lyric: ยินดีให้ความรักมันตาย ยินดีให้ชีวิตต้องพังทลาย  is  a sad song ToT with accuracy =  1.0\n"
     ]
    }
   ],
   "source": [
    "song1 = \"ยินดีให้ความรักมันตาย ยินดีให้ชีวิตต้องพังทลาย\"\n",
    "MODEL.predict_result(song1)"
   ]
  },
  {
   "cell_type": "code",
   "execution_count": null,
   "metadata": {},
   "outputs": [],
   "source": []
  }
 ],
 "metadata": {
  "kernelspec": {
   "display_name": "Python 3",
   "language": "python",
   "name": "python3"
  },
  "language_info": {
   "codemirror_mode": {
    "name": "ipython",
    "version": 3
   },
   "file_extension": ".py",
   "mimetype": "text/x-python",
   "name": "python",
   "nbconvert_exporter": "python",
   "pygments_lexer": "ipython3",
   "version": "3.11.6"
  }
 },
 "nbformat": 4,
 "nbformat_minor": 2
}
