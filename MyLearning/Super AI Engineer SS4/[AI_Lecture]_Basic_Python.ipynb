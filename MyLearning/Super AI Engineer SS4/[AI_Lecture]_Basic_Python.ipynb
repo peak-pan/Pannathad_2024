{
  "nbformat": 4,
  "nbformat_minor": 0,
  "metadata": {
    "colab": {
      "provenance": [],
      "toc_visible": true
    },
    "kernelspec": {
      "name": "python3",
      "display_name": "Python 3"
    },
    "language_info": {
      "name": "python"
    }
  },
  "cells": [
    {
      "cell_type": "markdown",
      "source": [
        "# 🤖 [AI Lecture] Basic Python & Google Colab\n",
        "- Lecture for Super AI Engineer SS.4 participants\n",
        "- prepared by Techin Techintananan (Super AI Engineer SS.3)\n",
        "- Update on 21 Jan, 2024"
      ],
      "metadata": {
        "id": "ZUTqjVilA3It"
      }
    },
    {
      "cell_type": "markdown",
      "source": [
        "## 📍 Session 1: Google Colab"
      ],
      "metadata": {
        "id": "BWzSntLEhe_n"
      }
    },
    {
      "cell_type": "markdown",
      "source": [
        "### 🐾 Step 1: Start the Colab Notebook\n",
        "First, Sign in your Google account, then\n",
        "- `File > Save a copy in Drive` to clone this notebook to be yours\n",
        "- `File > Open notebook` to open the notebook in your Google Drive\n",
        "- `File > Upload notebook` to upload the jupyter notebook (.ipynb) from local or other source to Google colab\n",
        "\n",
        "<br><hr>"
      ],
      "metadata": {
        "id": "KIG4NU64iSK6"
      }
    },
    {
      "cell_type": "markdown",
      "source": [
        "### 🐾 Step 2: Setting your Notebook\n",
        "1. Appearance\n",
        "- `Tools > Settings` and design your notebook!\n",
        "2. GitHub connection / Git Version Control\n",
        "- `Tools > Settings > GitHub` and setting your GitHub project links, for more details look at [this demo](https://colab.research.google.com/github/googlecolab/colabtools/blob/master/notebooks/colab-github-demo.ipynb#scrollTo=K-NVg7RjyeTk)\n",
        "3. Manage Runtime (🚨 IMPORTANT)\n",
        "- `Runtime > Change Runtime Type > Hardware accelerator` then select your CPU/GPU before running the notebook\n",
        "- The GPU & Storage limitations are related to your Google Colab Plan, please check the [details](https://colab.research.google.com/signup)\n",
        "\n",
        "<br><hr>"
      ],
      "metadata": {
        "id": "5iY5X3LbmJQ6"
      }
    },
    {
      "cell_type": "markdown",
      "source": [
        "### 🐾 Step 3: Know the **Text cell**\n",
        "Text cells are formatted using a simple markup language called `Markdown`, let's see the [Markdown Guide](https://www.markdownguide.org/basic-syntax/)\n",
        "\n",
        "# `#Heading1` for Heading1 (Biggest)\n",
        "## `#Heading2` for Heading2\n",
        "### `#Heading3` for Heading3\n",
        "#### `#Heading4` for Heading4\n",
        "##### `#Heading5` for Heading5\n",
        "###### `#Heading6` for Heading6 (Smallest)\n",
        "<br>\n",
        "\n",
        "\n",
        "`**Text**` for **Bold Text**  <br>\n",
        "`*Text*` for *Italic Text* <br>\n",
        "`***Text***` for ***Bold&Italic Text*** <br>\n",
        "`` `Text` `` for `Highlight Text` <br>\n",
        "``` ``Text`` ``` for ``Text with back tick (`)``<br>\n",
        "`[Text](link)` for [Embedding link](https://youtu.be/wh9QLjk3M2k?si=5aWfYotmNIYB7iCq)\n",
        "\n",
        "`![Text](Image link)` or `<img src=\"Image link\" alt=\"Text\">` for image <br>\n",
        " <img src=\"https://pngimg.com/uploads/doge_meme/doge_meme_PNG21.png\" alt=\"image\" width=\"60px\" height=\"auto\">\n",
        "\n",
        "<br><hr>"
      ],
      "metadata": {
        "id": "0uER4P0-xkBj"
      }
    },
    {
      "cell_type": "markdown",
      "source": [
        "### 🐾 Step 4: Understand the **Code cell**"
      ],
      "metadata": {
        "id": "E92mwx1d7VDr"
      }
    },
    {
      "cell_type": "markdown",
      "source": [
        "#### How to Run Code\n",
        "- Click the Run cell button (<img src=\"https://cdn-icons-png.flaticon.com/512/0/375.png\" width=\"15px\">) to run code in that cell\n",
        "- Select option on `Runtime`\n",
        "- `⌘/ctrl + Enter` to run selection cell\n",
        "- `Shift + Enter` to run selection and select the next cell\n",
        "> Look more shortcut by `Tools > Keyboards shortcuts`\n"
      ],
      "metadata": {
        "id": "Xh5W1oz87itl"
      }
    },
    {
      "cell_type": "markdown",
      "source": [
        "#### Let's run Python!"
      ],
      "metadata": {
        "id": "nUb5bJnT7xhr"
      }
    },
    {
      "cell_type": "code",
      "source": [
        "print('Hello, Code cell')"
      ],
      "metadata": {
        "id": "leHr3JSo7Scp"
      },
      "execution_count": null,
      "outputs": []
    },
    {
      "cell_type": "markdown",
      "source": [
        "<hr>\n",
        "\n",
        "#### Connect to Google Drive\n",
        "- Using source code\n",
        "- Using code snippets by `Code snippets > Mounting Google Drive in your VM` and insert\n",
        "- Clicking the UI by `Files > Mount Drive`"
      ],
      "metadata": {
        "id": "pHLbQCEA_Yh1"
      }
    },
    {
      "cell_type": "code",
      "source": [
        "from google.colab import drive\n",
        "drive.mount('/gdrive')"
      ],
      "metadata": {
        "id": "4-lz0Mza_icy"
      },
      "execution_count": null,
      "outputs": []
    },
    {
      "cell_type": "markdown",
      "source": [
        "<hr>\n",
        "\n",
        "#### About files and directories"
      ],
      "metadata": {
        "id": "RU5n2xRaFgB-"
      }
    },
    {
      "cell_type": "code",
      "source": [
        "# Save file\n",
        "data = \"Basic Python Lecturer is very cool\"\n",
        "with open('/content/test.txt', 'w') as f:\n",
        "  f.write(data)"
      ],
      "metadata": {
        "id": "KINieuaeFlHi"
      },
      "execution_count": null,
      "outputs": []
    },
    {
      "cell_type": "code",
      "source": [
        "# Read file\n",
        "with open('/content/test.txt', 'r') as f:\n",
        "  data = f.read()\n",
        "print(data)"
      ],
      "metadata": {
        "id": "vWsPiCGVFrK6"
      },
      "execution_count": null,
      "outputs": []
    },
    {
      "cell_type": "markdown",
      "source": [
        "<hr>\n",
        "\n",
        "#### Command script\n",
        "- Use `!` symbol to run a [bash script](https://github.com/RehanSaeed/Bash-Cheat-Sheet) in code cell, mostly use for install python library!\n",
        "- Use `%` and `%%` to run a [built-in magic command](https://ipython.readthedocs.io/en/stable/interactive/magics.html#) provided by IPython"
      ],
      "metadata": {
        "id": "pzDUmj1Q-MfA"
      }
    },
    {
      "cell_type": "code",
      "source": [
        "# Check version of python\n",
        "!python -V"
      ],
      "metadata": {
        "id": "RMdEz-0aLfND"
      },
      "execution_count": null,
      "outputs": []
    },
    {
      "cell_type": "code",
      "source": [
        "# Install python library\n",
        "!pip install pandas\n",
        "!pip install matplotlib\n",
        "#!pip install pandas &> /dev/null"
      ],
      "metadata": {
        "id": "dULDmPKR5aTl"
      },
      "execution_count": null,
      "outputs": []
    },
    {
      "cell_type": "code",
      "source": [
        "# Change current directory\n",
        "%cd sample_data\n",
        "%ls"
      ],
      "metadata": {
        "id": "pO_mBU1b4W8P"
      },
      "execution_count": null,
      "outputs": []
    },
    {
      "cell_type": "code",
      "source": [
        "# Go back for one step\n",
        "%cd ..\n",
        "%ls"
      ],
      "metadata": {
        "id": "BAC03exHJ42c"
      },
      "execution_count": null,
      "outputs": []
    },
    {
      "cell_type": "code",
      "source": [
        "# Run cell as bash script\n",
        "%%bash\n",
        "pip install pandas\n",
        "pip install matplotlib"
      ],
      "metadata": {
        "id": "zqfiQ4juJvzG"
      },
      "execution_count": null,
      "outputs": []
    },
    {
      "cell_type": "code",
      "source": [
        "# Count time usage when running cell\n",
        "%%time\n",
        "_ = [i for i in range(100)]"
      ],
      "metadata": {
        "id": "oidzSNCTLAHd"
      },
      "execution_count": null,
      "outputs": []
    },
    {
      "cell_type": "markdown",
      "source": [
        "### Challenge 🔥\n",
        "write a `hello.py` using Code cell to run say \"hello\" from Code cell of Google Colab"
      ],
      "metadata": {
        "id": "DP-HnKTAvscV"
      }
    },
    {
      "cell_type": "markdown",
      "source": [
        "## 📍 Session 2: Basic Python"
      ],
      "metadata": {
        "id": "WfIo-erTMz5m"
      }
    },
    {
      "cell_type": "markdown",
      "source": [
        "### 🐾 Step1: Data Type"
      ],
      "metadata": {
        "id": "e38arptRM4yq"
      }
    },
    {
      "cell_type": "markdown",
      "source": [
        "##### Basic data type"
      ],
      "metadata": {
        "id": "5Fa_LKK26fdv"
      }
    },
    {
      "cell_type": "code",
      "source": [
        "# One-line comment"
      ],
      "metadata": {
        "id": "JhJ202HANSw1"
      },
      "execution_count": null,
      "outputs": []
    },
    {
      "cell_type": "code",
      "source": [
        "n_person = 2          # Int\n",
        "price = 30.5          # Float\n",
        "menu = \"ข้าวไข่เจียว\"    # String\n",
        "details = \"\"\"เพิ่มเติม\n",
        "  ของผมเอาพิเศษ ไม่เอาต้นหอม\n",
        "ของแฟนเอาธรรมดา เพราะผมพิเศษอยู่แล้ว\n",
        "\"\"\"\n",
        "is_order = True       # Boolean"
      ],
      "metadata": {
        "id": "5wzjFruVOPIe"
      },
      "execution_count": null,
      "outputs": []
    },
    {
      "cell_type": "code",
      "source": [
        "# check type of data\n",
        "type(n_person), type(price), type(menu), type(details), type(is_order)"
      ],
      "metadata": {
        "id": "3LWTkyLIPdhu"
      },
      "execution_count": null,
      "outputs": []
    },
    {
      "cell_type": "code",
      "source": [
        "# The way to print variable\n",
        "print('จำนวน', n_person, 'คน')\n",
        "print('เมนู: {} รายละเอียด: {}'.format(menu, details))\n",
        "print(f'ปกติราคาจานละ {price} บาท')\n",
        "print(f'พิเศษราคา {price + 10} บาท')\n",
        "print('ธรรมดาราคา %.2f' % price)\n",
        "print('ได้รับคำสั่งซื้อ:', is_order)"
      ],
      "metadata": {
        "id": "QWDvdCcbPlkj"
      },
      "execution_count": null,
      "outputs": []
    },
    {
      "cell_type": "markdown",
      "source": [
        "<hr>\n",
        "\n",
        "##### **List**: a sequence of data\n",
        "Note📝: List index starts with 0"
      ],
      "metadata": {
        "id": "lzLG7p0v6h9r"
      }
    },
    {
      "cell_type": "code",
      "source": [
        "# List [value1, value2, value3, ...]\n",
        "menu = ['ข้าวไข่เจียว', 1, 'ข้าวผัด', 2, 'ก๋วยเตี๋ยวเรือ', 3.5]\n",
        "menu"
      ],
      "metadata": {
        "id": "RXxwaVaf70Hj"
      },
      "execution_count": null,
      "outputs": []
    },
    {
      "cell_type": "code",
      "source": [
        "# Positive index\n",
        "print(\"Menu#1 (index 0) :\", menu[0])\n",
        "print(\"Menu#2 (index 1) :\", menu[1])\n",
        "print(\"Menu#3 (index 2) :\", menu[2])\n",
        "print(\"Menu#4 (index 3) :\", menu[3])"
      ],
      "metadata": {
        "id": "gBokSPD18Vo4"
      },
      "execution_count": null,
      "outputs": []
    },
    {
      "cell_type": "code",
      "source": [
        "# Negative index\n",
        "print(\"Menu#1 (index -1) :\", menu[-1])\n",
        "print(\"Menu#2 (index -2) :\", menu[-2])\n",
        "print(\"Menu#3 (index -3) :\", menu[-3])\n",
        "print(\"Menu#4 (index -4) :\", menu[-4])"
      ],
      "metadata": {
        "id": "zy11hvTM8lMh"
      },
      "execution_count": null,
      "outputs": []
    },
    {
      "cell_type": "code",
      "source": [
        "# Check type of each data\n",
        "print(\"type(menu):\", type(menu))\n",
        "print(\"type(menu[0]):\", type(menu[0]))\n",
        "print(\"type(menu[1]):\", type(menu[1]))"
      ],
      "metadata": {
        "id": "-rvL_teU9NkS"
      },
      "execution_count": null,
      "outputs": []
    },
    {
      "cell_type": "code",
      "source": [
        "# Change value of list\n",
        "menu[0] = 'ขนมจีนน้ำเงี้ยว'\n",
        "menu"
      ],
      "metadata": {
        "id": "PWFPNOi5AuB9"
      },
      "execution_count": null,
      "outputs": []
    },
    {
      "cell_type": "markdown",
      "source": [
        "<hr>\n",
        "\n",
        "##### **Set**: a list of unique value"
      ],
      "metadata": {
        "id": "uLhse66u9lds"
      }
    },
    {
      "cell_type": "code",
      "source": [
        "# Set {value1, value2, value3, ...}\n",
        "menu = {'ข้าวไข่เจียว', 'ข้าวผัด', 'ข้าวไข่เจียว', 'ก๋วยเตี๋ยวเรือ'}\n",
        "menu"
      ],
      "metadata": {
        "id": "iuwRBrS39vTu"
      },
      "execution_count": null,
      "outputs": []
    },
    {
      "cell_type": "code",
      "source": [
        "print(\"type(menu):\", type(menu))\n",
        "print(\"type(menu[0]):\", type(menu[0]))"
      ],
      "metadata": {
        "id": "6iFg31lo9-9X"
      },
      "execution_count": null,
      "outputs": []
    },
    {
      "cell_type": "markdown",
      "source": [
        "<hr>\n",
        "\n",
        "##### **Tuple**: an immutable list"
      ],
      "metadata": {
        "id": "x8KoPkG9__ZJ"
      }
    },
    {
      "cell_type": "code",
      "source": [
        "# Tuple (value1, value2, value3, ...)\n",
        "omelet = ('ไข่', 'น้ำปลา', 'น้ำมัน')\n",
        "omelet"
      ],
      "metadata": {
        "id": "jYNbmhPkAG5f"
      },
      "execution_count": null,
      "outputs": []
    },
    {
      "cell_type": "code",
      "source": [
        "# Positive index\n",
        "print(\"omelet#1 (index 0) :\", omelet[0])\n",
        "print(\"omelet#2 (index 1) :\", omelet[1])\n",
        "print(\"omelet#-1 (index -1) :\", omelet[-1])\n",
        "print(\"omelet#-2 (index -2) :\", omelet[-2])"
      ],
      "metadata": {
        "id": "x94yNtEnAaiS"
      },
      "execution_count": null,
      "outputs": []
    },
    {
      "cell_type": "code",
      "source": [
        "# Change value of tuple\n",
        "omelet[0] = \"ข้าว\""
      ],
      "metadata": {
        "id": "o-5iMs1ZArjs"
      },
      "execution_count": null,
      "outputs": []
    },
    {
      "cell_type": "markdown",
      "source": [
        "<hr>\n",
        "\n",
        "##### **Dictionary**: a collection of key-value pairs"
      ],
      "metadata": {
        "id": "Ks5ogwAv7jOt"
      }
    },
    {
      "cell_type": "code",
      "source": [
        "# Dictionary {\"key\": value, ...}\n",
        "order = {\n",
        "    \"n_person\": 2,\n",
        "    \"menu\": 'ข้าวไข่เจียว',\n",
        "    \"is_order\": True\n",
        "}\n",
        "order"
      ],
      "metadata": {
        "id": "-fzJZgbL6lAX"
      },
      "execution_count": null,
      "outputs": []
    },
    {
      "cell_type": "code",
      "source": [
        "print(\"order['n_person'] :\", order['n_person'])\n",
        "print(\"order['menu'] :\", order['menu'])\n",
        "print(\"order['is_order'] :\", order['is_order'])"
      ],
      "metadata": {
        "id": "V9AGmS6j-dnk"
      },
      "execution_count": null,
      "outputs": []
    },
    {
      "cell_type": "code",
      "source": [
        "# Check data type\n",
        "print(\"type(order1):\", type(order))\n",
        "print(\"type(order1['n_person']):\", type(order['n_person']))\n",
        "print(\"type(order1['menu']):\", type(order['menu']))\n",
        "print(\"type(order1['is_order']):\", type(order['is_order']))"
      ],
      "metadata": {
        "id": "HVJ42wxI6-TM"
      },
      "execution_count": null,
      "outputs": []
    },
    {
      "cell_type": "markdown",
      "source": [
        "<hr>\n",
        "\n",
        "##### None: Yes, It's nothing"
      ],
      "metadata": {
        "id": "EIBnUDhV_1dh"
      }
    },
    {
      "cell_type": "code",
      "source": [
        "# None type\n",
        "order = None\n",
        "order"
      ],
      "metadata": {
        "id": "vb8kDu-J_4dE"
      },
      "execution_count": null,
      "outputs": []
    },
    {
      "cell_type": "code",
      "source": [
        "type(order)"
      ],
      "metadata": {
        "id": "iT8g-tCYBVq0"
      },
      "execution_count": null,
      "outputs": []
    },
    {
      "cell_type": "markdown",
      "source": [
        "##### 🔥 Challenge\n",
        "Find the way to save list, dictionary into files :D"
      ],
      "metadata": {
        "id": "rnhbpBWawMWY"
      }
    },
    {
      "cell_type": "markdown",
      "source": [
        "<hr>\n",
        "\n",
        "### 🐾 Step2: Operaters"
      ],
      "metadata": {
        "id": "3I7NPWecNIs8"
      }
    },
    {
      "cell_type": "markdown",
      "source": [
        "#### Number: Int & Float\n",
        "Note: The output data type should match the input (except when divided), and Python will prioritize **float over int**\n"
      ],
      "metadata": {
        "id": "ixl2H8h8R4Nf"
      }
    },
    {
      "cell_type": "markdown",
      "source": [
        "##### Arithmetic Operators"
      ],
      "metadata": {
        "id": "5tiIwlGB6WTY"
      }
    },
    {
      "cell_type": "code",
      "source": [
        "# Int\n",
        "print(\"5 + 2 = \", 5 + 2)      # Addition\n",
        "print(\"5 - 2 = \", 5 - 2)      # Subtraction\n",
        "print(\"5 * 2 = \", 5 * 2)      # Multiplication\n",
        "print(\"5 / 2 = \", 5 / 2)      # Division\n",
        "print(\"5 // 2 = \", 5 // 2)    # Floor Division\n",
        "print(\"5 ** 2 = \", 5 ** 2)    # Exponentiation\n",
        "print(\"5 % 2 = \", 5 % 2)      # Modulus"
      ],
      "metadata": {
        "id": "sGoO3RgE1sx2"
      },
      "execution_count": null,
      "outputs": []
    },
    {
      "cell_type": "code",
      "source": [
        "# Float\n",
        "print(\"5.0 + 2 = \", 5.0 + 2)      # Addition\n",
        "print(\"5.0 - 2 = \", 5.0 - 2)      # Subtraction\n",
        "print(\"5.0 * 2 = \", 5.0 * 2)      # Multiplication\n",
        "print(\"5.0 / 2 = \", 5.0 / 2)      # Division\n",
        "print(\"5.0 // 2 = \", 5.0 // 2)    # Floor Division\n",
        "print(\"5.0 ** 2 = \", 5.0 ** 2)    # Exponentiation\n",
        "print(\"5.0 % 2 = \", 5.0 % 2)      # Modulus"
      ],
      "metadata": {
        "id": "R_i4RP-I2WOd"
      },
      "execution_count": null,
      "outputs": []
    },
    {
      "cell_type": "markdown",
      "source": [
        "👀 Let Focus the modulus\n",
        "\n",
        "The result is positibe/negative depends on the divider"
      ],
      "metadata": {
        "id": "9lMsp3Bq4D2s"
      }
    },
    {
      "cell_type": "code",
      "source": [
        "7 % 5     # 7 = (5)*(1) + (2)"
      ],
      "metadata": {
        "id": "qHPJBpWg2vY6"
      },
      "execution_count": null,
      "outputs": []
    },
    {
      "cell_type": "code",
      "source": [
        "-7 % 5    # -7 = (5)*(-2) + (3)"
      ],
      "metadata": {
        "id": "T2kUr8iE4AuF"
      },
      "execution_count": null,
      "outputs": []
    },
    {
      "cell_type": "code",
      "source": [
        "7 % -5    # 7 = (-5)*(-2) + (-3)"
      ],
      "metadata": {
        "id": "Bd1SEDdI2s6F"
      },
      "execution_count": null,
      "outputs": []
    },
    {
      "cell_type": "code",
      "source": [
        "-7 % -5   # -7 = (-5)*(1) + (-2)"
      ],
      "metadata": {
        "id": "71-PDsJE2U0I"
      },
      "execution_count": null,
      "outputs": []
    },
    {
      "cell_type": "markdown",
      "source": [
        "Operation prioritize\n",
        "- Calculate value in ( ) first\n",
        "- Then, Do `*`, `/`, `%` from left to right\n",
        "- Finally, Do `+`, `-` from left to right"
      ],
      "metadata": {
        "id": "Vaky6MfVFj9A"
      }
    },
    {
      "cell_type": "markdown",
      "source": [
        "##### 🔥 Challenge\n",
        "What is the result of `2+(15-2*2)//5%3` when run in python"
      ],
      "metadata": {
        "id": "YEVJ4DxXwf1C"
      }
    },
    {
      "cell_type": "markdown",
      "source": [
        "<hr>\n",
        "\n",
        "##### Assignment operator\n",
        "Using `=` to define the value of variable, where value in the right and variable in the left `<variable> = <value>`"
      ],
      "metadata": {
        "id": "3aZdZU8i6LDW"
      }
    },
    {
      "cell_type": "code",
      "source": [
        "x = 2\n",
        "x = x + 1       # Assign x(new) = x(old) + 1\n",
        "print(x)"
      ],
      "metadata": {
        "id": "U30U6JK4C4CN"
      },
      "execution_count": null,
      "outputs": []
    },
    {
      "cell_type": "code",
      "source": [
        "x = 2\n",
        "print(\"x: \", x)\n",
        "x += 2\n",
        "print(\"x+=2: \", x)  # x = x + 2\n",
        "x -= 2\n",
        "print(\"x-=2: \", x)  # x = x - 2\n",
        "x *= 2\n",
        "print(\"x*=2: \", x)  # x = x * 2\n",
        "x /= 2\n",
        "print(\"x/=2: \", x)  # x = x / 2"
      ],
      "metadata": {
        "id": "zZI8-lRC2SUb"
      },
      "execution_count": null,
      "outputs": []
    },
    {
      "cell_type": "markdown",
      "source": [
        "#### List operators\n",
        "🚨 Index of list start with 0"
      ],
      "metadata": {
        "id": "fCe5fGUBFIif"
      }
    },
    {
      "cell_type": "code",
      "source": [
        "# Get index from List\n",
        "A = [1, 2, 3, 4, 5, 6, 7, 8, 9]\n",
        "print(\"A#1 (index 0) :\", A[0])\n",
        "print(\"A#2 (index 1) :\", A[1])\n",
        "print(\"A#1 from last :\", A[-1])\n",
        "print(\"A#2 from last :\", A[-2])"
      ],
      "metadata": {
        "id": "MQtl1b8QFMC1"
      },
      "execution_count": null,
      "outputs": []
    },
    {
      "cell_type": "code",
      "source": [
        "# Get range of List\n",
        "print(\"A\", A)\n",
        "print(\"A[3:6]\", A[3:6])     # Get range from index 3 to 6-1\n",
        "print(\"A[3:] \", A[3:])      # Get range from index 3 to end of list\n",
        "print(\"A[:6] \", A[:6])      # Get range from index start to 6-1"
      ],
      "metadata": {
        "id": "9_51gKOUHO1-"
      },
      "execution_count": null,
      "outputs": []
    },
    {
      "cell_type": "code",
      "source": [
        "# Add value in list\n",
        "print(\"Before\", A)\n",
        "A.append(10)                # Add value 10 in the last of the list\n",
        "print(\"After \", A)\n",
        "A.insert(5, \"New\")          # Add value \"New\" in the index 5\n",
        "print(\"After2\", A)"
      ],
      "metadata": {
        "id": "uzVDhsAPIo-z"
      },
      "execution_count": null,
      "outputs": []
    },
    {
      "cell_type": "code",
      "source": [
        "# Remove value in list by index\n",
        "print(\"Before\", A)\n",
        "A.pop(10)               # Remove value at index 10 out of list (default .pop() will remove the last)\n",
        "print(\"After \", A)\n",
        "A.remove(\"New\")         # Remove value by its value\n",
        "print(\"After2\", A)"
      ],
      "metadata": {
        "id": "gW9DkCQyIz4T"
      },
      "execution_count": null,
      "outputs": []
    },
    {
      "cell_type": "code",
      "source": [
        "# Concatenate List\n",
        "A = [1, 2, 3]\n",
        "B = [4, 5, 6]\n",
        "\n",
        "print(\"A + B      :\", A + B)\n",
        "A.extend(B)\n",
        "print(\"A.extend(B):\", A)"
      ],
      "metadata": {
        "id": "sTG72mbOJ7hE"
      },
      "execution_count": null,
      "outputs": []
    },
    {
      "cell_type": "code",
      "source": [
        "# Repeat value\n",
        "[1, 2, 3] * 5"
      ],
      "metadata": {
        "id": "FwnMQqgRKB3I"
      },
      "execution_count": null,
      "outputs": []
    },
    {
      "cell_type": "code",
      "source": [
        "# Sorting\n",
        "A = [1, 5, 2, 8, 3]\n",
        "print(\"Before  \", A)\n",
        "A.sort()\n",
        "print(\"A.sort()\", A)\n",
        "A.sort(reverse=True)\n",
        "print(\"A.sort(reverse=True)\", A)"
      ],
      "metadata": {
        "id": "aG148B2qKpoU"
      },
      "execution_count": null,
      "outputs": []
    },
    {
      "cell_type": "code",
      "source": [
        "# Count member of list\n",
        "print(\"A =\", A)\n",
        "print(\"len(A) =\", len(A))"
      ],
      "metadata": {
        "id": "-hqdBs-9Lamz"
      },
      "execution_count": null,
      "outputs": []
    },
    {
      "cell_type": "markdown",
      "source": [
        "<hr>\n",
        "\n",
        "#### String"
      ],
      "metadata": {
        "id": "4I9S7eUTDOU5"
      }
    },
    {
      "cell_type": "code",
      "source": [
        "# Concatenate string\n",
        "\"สวัสดีจ้า\" + \" \" + \"สุดหล่อ\""
      ],
      "metadata": {
        "id": "VnphAGVk1sJk"
      },
      "execution_count": null,
      "outputs": []
    },
    {
      "cell_type": "code",
      "source": [
        "# Concatenate with other data type\n",
        "\"สวัสดีจ้า\" + str(2) + str(True) + str([1,2,3])"
      ],
      "metadata": {
        "id": "7LF7b356Dunn"
      },
      "execution_count": null,
      "outputs": []
    },
    {
      "cell_type": "code",
      "source": [
        "# Repeat value\n",
        "\"สวัสดีจ้า\" * 10"
      ],
      "metadata": {
        "id": "D2kD_UP8EOTe"
      },
      "execution_count": null,
      "outputs": []
    },
    {
      "cell_type": "code",
      "source": [
        "# Uppercase\n",
        "\"Super AI Engineer ครั้งที่ 4\".upper()"
      ],
      "metadata": {
        "id": "gfnEziRhobbO"
      },
      "execution_count": null,
      "outputs": []
    },
    {
      "cell_type": "code",
      "source": [
        "# Lowercase\n",
        "\"Super AI Engineer\".lower()"
      ],
      "metadata": {
        "id": "8YCz_kO5of35"
      },
      "execution_count": null,
      "outputs": []
    },
    {
      "cell_type": "markdown",
      "source": [
        "Note📝 String is like a list of character!"
      ],
      "metadata": {
        "id": "-Ya3EA2SEv7F"
      }
    },
    {
      "cell_type": "code",
      "source": [
        "# String\n",
        "greeting = \"สวัสดีจ้า\"\n",
        "print(greeting[:6])"
      ],
      "metadata": {
        "id": "LqTG6PyeEtvJ"
      },
      "execution_count": null,
      "outputs": []
    },
    {
      "cell_type": "markdown",
      "source": [
        "<hr>\n",
        "\n",
        "#### Boolean"
      ],
      "metadata": {
        "id": "109ksnacPIj9"
      }
    },
    {
      "cell_type": "code",
      "source": [
        "print(\"True  and True :\", True and True)\n",
        "print(\"True  and Fasle:\", True and False)\n",
        "print(\"False and False:\", False and False)\n",
        "\n",
        "print(\"\\nTrue  or True  :\", True or True)\n",
        "print(\"True  or Fasle :\", True or False)\n",
        "print(\"False or False :\", False or False)\n",
        "\n",
        "print(\"\\nnot True :\", not True)\n",
        "print(\"not False:\", not False)"
      ],
      "metadata": {
        "id": "LUQuVniNPKrV"
      },
      "execution_count": null,
      "outputs": []
    },
    {
      "cell_type": "markdown",
      "source": [
        "### 🐾 Step3: Condition\n",
        "- Let's know `If-else`"
      ],
      "metadata": {
        "id": "49kpWTLQEjne"
      }
    },
    {
      "cell_type": "code",
      "source": [
        "# If-else\n",
        "if True:\n",
        "  print(\"ใช่\")\n",
        "else:\n",
        "  print(\"ไม่\")"
      ],
      "metadata": {
        "id": "VbuyJ-cyEcyS"
      },
      "execution_count": null,
      "outputs": []
    },
    {
      "cell_type": "markdown",
      "source": [
        "|Operator|Name|Example|\n",
        "|---|---|---|\n",
        "|==|Equal|x == y|\n",
        "|!=|Not equal|x != y|\n",
        "|>|Greater than|x > y|\n",
        "|<|Less than|x < y|\n",
        "|>=|Greater than or equal to|x >= y|\n",
        "|<=|Less than or equal to|x <= y|"
      ],
      "metadata": {
        "id": "ooxqi4eyNGCF"
      }
    },
    {
      "cell_type": "code",
      "source": [
        "# Let's check the condition\n",
        "print(\"2==3\", 2==3)\n",
        "print(\"2!=3\", 2!=3)\n",
        "print(\"2>3 \", 2>3)\n",
        "print(\"2<3 \", 2<3)\n",
        "print(\"2>=3\", 2>=3)\n",
        "print(\"2<=3\", 2<=3)"
      ],
      "metadata": {
        "id": "5eBZAx0wMhkW"
      },
      "execution_count": null,
      "outputs": []
    },
    {
      "cell_type": "code",
      "source": [
        "# Apply with number\n",
        "if 2>3:\n",
        "  print(\"ใช่\")\n",
        "else:\n",
        "  print(\"ไม่\")"
      ],
      "metadata": {
        "id": "ruLkdpZTO1ou"
      },
      "execution_count": null,
      "outputs": []
    },
    {
      "cell_type": "code",
      "source": [
        "# Apply with variable\n",
        "A = 2\n",
        "B = 3\n",
        "\n",
        "if A>B:\n",
        "  print(\"ใช่\")\n",
        "else:\n",
        "  print(\"ไม่\")"
      ],
      "metadata": {
        "id": "cqEgf10wPwxe"
      },
      "execution_count": null,
      "outputs": []
    },
    {
      "cell_type": "code",
      "source": [
        "# More Than 2 condition!\n",
        "A = 2\n",
        "B = 3\n",
        "if A>B:\n",
        "  print(\"มากกว่า\")\n",
        "elif A<B:\n",
        "  print(\"น้อยกว่า\")\n",
        "else:\n",
        "  print(\"เท่ากับ\")"
      ],
      "metadata": {
        "id": "T397SHh4QGMP"
      },
      "execution_count": null,
      "outputs": []
    },
    {
      "cell_type": "markdown",
      "source": [
        "##### 🔥 Challenge: Are these code similar?\n",
        "```\n",
        "if A>B:\n",
        "  print(\"มากกว่า\")\n",
        "elif A<B:\n",
        "  print(\"น้อยกว่า\")\n",
        "else:\n",
        "  print(\"เท่ากับ\")\n",
        "```\n",
        "🤔\n",
        "```\n",
        "if A>B:\n",
        "  print(\"มากกว่า\")\n",
        "if A<B:\n",
        "  print(\"น้อยกว่า\")\n",
        "else:\n",
        "  print(\"เท่ากับ\")\n",
        "```"
      ],
      "metadata": {
        "id": "_AOI0NytQ3kL"
      }
    },
    {
      "cell_type": "markdown",
      "source": [
        "<hr>\n",
        "\n",
        "### 🐾 Step4: Iteration"
      ],
      "metadata": {
        "id": "K8iSSG6RNPuJ"
      }
    },
    {
      "cell_type": "markdown",
      "source": [
        "##### For loop"
      ],
      "metadata": {
        "id": "554osLTnV3Yp"
      }
    },
    {
      "cell_type": "code",
      "source": [
        "# Assign i with list value\n",
        "for i in [\"ข้าวผัด\", \"ก๋วยเตี๋ยว\", \"กะเพราะไก่\"]:\n",
        "  print(i)"
      ],
      "metadata": {
        "id": "2xhvV4W5MO93"
      },
      "execution_count": null,
      "outputs": []
    },
    {
      "cell_type": "code",
      "source": [
        "# Get index and value by enumerate function\n",
        "for i, value in enumerate([\"ข้าวผัด\", \"ก๋วยเตี๋ยว\", \"กะเพราะไก่\"]):\n",
        "  print(f\"index{i}: {value}\")"
      ],
      "metadata": {
        "id": "v_4uqzLJMIHi"
      },
      "execution_count": null,
      "outputs": []
    },
    {
      "cell_type": "code",
      "source": [
        "# Looping with Character\n",
        "for char in \"ABCD\":\n",
        "  print(char)"
      ],
      "metadata": {
        "id": "0gAVT41XTE5D"
      },
      "execution_count": null,
      "outputs": []
    },
    {
      "cell_type": "code",
      "source": [
        "# Zip multiple list and run together\n",
        "A = [65, 66, 67, 68]\n",
        "B = \"ABCD\"\n",
        "\n",
        "for i, char in zip(A, B):\n",
        "  print(f\"i={i}: char={char}\")"
      ],
      "metadata": {
        "id": "wcKvHt1VBNpU"
      },
      "execution_count": null,
      "outputs": []
    },
    {
      "cell_type": "markdown",
      "source": [
        "##### Range"
      ],
      "metadata": {
        "id": "Bch53unpTfFG"
      }
    },
    {
      "cell_type": "code",
      "source": [
        "# Get sequence of number by Range function\n",
        "print(\"range(5)  :\", list(range(5)))                  # Start from 0 up to (not including) 5\n",
        "print(\"range(1,5):\", list(range(1,5)))                # Start from 1 up to (not including) 5\n",
        "print(\"range(1,10, 2)  :\", list(range(1, 10, 2)))     # Start from 1 up to (not including) 10 with a step=2\n",
        "print(\"range(10, 1, -1):\", list(range(10, 1, -1)))    # Start from 10 up to (not including) 1 with step=-1\n"
      ],
      "metadata": {
        "id": "OFV4R1U9ThBG"
      },
      "execution_count": null,
      "outputs": []
    },
    {
      "cell_type": "code",
      "source": [
        "# Combine with condition\n",
        "for i in range(11):\n",
        "  if i%2==0:\n",
        "    print(i, end=\" \")"
      ],
      "metadata": {
        "id": "yHYI9LZJTb69"
      },
      "execution_count": null,
      "outputs": []
    },
    {
      "cell_type": "markdown",
      "source": [
        "##### break & continue"
      ],
      "metadata": {
        "id": "W1isDCnNWNwa"
      }
    },
    {
      "cell_type": "code",
      "source": [
        "# Break\n",
        "for i in range(10):\n",
        "  if i==6:\n",
        "    break\n",
        "  print(i)"
      ],
      "metadata": {
        "id": "zDxJvRCBWPue"
      },
      "execution_count": null,
      "outputs": []
    },
    {
      "cell_type": "code",
      "source": [
        "# Continue\n",
        "for i in range(10):\n",
        "  if i==6:\n",
        "    continue\n",
        "  print(i)"
      ],
      "metadata": {
        "id": "NNlhCAlsW2CE"
      },
      "execution_count": null,
      "outputs": []
    },
    {
      "cell_type": "markdown",
      "source": [
        "##### Nested Loop"
      ],
      "metadata": {
        "id": "BTbMZXg3rAAM"
      }
    },
    {
      "cell_type": "code",
      "source": [
        "# Loop inside Loop!\n",
        "for i in range(3):\n",
        "  for j in [\"รับออเดอร์\", \"ทำอาหาร\", \"เก็บเงิน\"]:\n",
        "    print(f'คนที่ {i} ทำ {j}')"
      ],
      "metadata": {
        "id": "cQMzVUyhrCjR"
      },
      "execution_count": null,
      "outputs": []
    },
    {
      "cell_type": "markdown",
      "source": [
        "##### While loop\n"
      ],
      "metadata": {
        "id": "0lOpl3msVzyA"
      }
    },
    {
      "cell_type": "code",
      "source": [
        "x = 0\n",
        "while x<5:        # Do until the the condition is false\n",
        "  print(x)\n",
        "  x = x + 1"
      ],
      "metadata": {
        "id": "AhVfLDLpV6P5"
      },
      "execution_count": null,
      "outputs": []
    },
    {
      "cell_type": "markdown",
      "source": [
        "##### Add value in list"
      ],
      "metadata": {
        "id": "ke7Iy2PWrbEA"
      }
    },
    {
      "cell_type": "code",
      "source": [
        "# Add value in list\n",
        "A = []\n",
        "for i in range(10):\n",
        "  A.append(i+1)\n",
        "\n",
        "print(A)"
      ],
      "metadata": {
        "id": "vIpDXM8-YpUF"
      },
      "execution_count": null,
      "outputs": []
    },
    {
      "cell_type": "markdown",
      "source": [
        "##### Challenge 🔥\n",
        "Fill the blank in this code\n",
        "```\n",
        "n = <fill number>\n",
        "for i in range(n):\n",
        "   # Edit here\n",
        "```\n",
        "to get the result like this\n",
        "```\n",
        "n= 10\n",
        "0\n",
        "0 1\n",
        "0 1 2\n",
        "0 1 2 3\n",
        "0 1 2 3 4\n",
        "0 1 2 3 4 5\n",
        "0 1 2 3 4 5 6\n",
        "0 1 2 3 4 5 6 7\n",
        "0 1 2 3 4 5 6 7 8\n",
        "```\n",
        "```\n",
        "n= 3\n",
        "0\n",
        "0 1\n",
        "0 1 2\n",
        "```\n",
        "\n",
        "<hr>"
      ],
      "metadata": {
        "id": "CWb1zoDLVhOo"
      }
    },
    {
      "cell_type": "markdown",
      "source": [
        "##### Bonus"
      ],
      "metadata": {
        "id": "npUR8kC7TY76"
      }
    },
    {
      "cell_type": "code",
      "execution_count": null,
      "metadata": {
        "id": "r6L9Xe8IAl5P"
      },
      "outputs": [],
      "source": [
        "# Add progress bar\n",
        "from tqdm import tqdm\n",
        "import time\n",
        "\n",
        "for i in tqdm(range(100)):\n",
        "  time.sleep(0.1)"
      ]
    },
    {
      "cell_type": "code",
      "source": [
        "# Short hand for loop\n",
        "[i+1 for i in range(10)]"
      ],
      "metadata": {
        "id": "4r-ZVX63YlM9"
      },
      "execution_count": null,
      "outputs": []
    },
    {
      "cell_type": "code",
      "source": [
        "# Short hand for loop with condition\n",
        "[i for i in range(10) if i%2==0]"
      ],
      "metadata": {
        "id": "lxeLtVAvY37G"
      },
      "execution_count": null,
      "outputs": []
    },
    {
      "cell_type": "markdown",
      "source": [
        "<hr>\n",
        "\n",
        "### 🐾 Step5: Function"
      ],
      "metadata": {
        "id": "bSEhPQQZY_Ex"
      }
    },
    {
      "cell_type": "code",
      "source": [
        "# Just call function\n",
        "def hello():\n",
        "  print(\"สวัสดีจ้า\")\n",
        "\n",
        "hello()"
      ],
      "metadata": {
        "id": "xmQ06Xdnr5SW"
      },
      "execution_count": null,
      "outputs": []
    },
    {
      "cell_type": "code",
      "source": [
        "# Function with parameters\n",
        "def PaLamai(menu, amount):\n",
        "  print(f\"กำลังทำ{menu} จำนวน {amount} จานจ้า\")\n",
        "\n",
        "PaLamai(\"แกงฮังเล\", 2)"
      ],
      "metadata": {
        "id": "FRIkpEfQsQMm"
      },
      "execution_count": null,
      "outputs": []
    },
    {
      "cell_type": "code",
      "source": [
        "# Function with return\n",
        "def summation(a, b):\n",
        "  sum = a + b\n",
        "  return sum\n",
        "\n",
        "summation(1,2)"
      ],
      "metadata": {
        "id": "j223at6qZEt9"
      },
      "execution_count": null,
      "outputs": []
    },
    {
      "cell_type": "code",
      "source": [
        "# Function with multiple return\n",
        "def PaLamai_son(a, b):\n",
        "  sum = a + b\n",
        "  dif = a - b\n",
        "  return sum, dif\n",
        "\n",
        "plus, minus = PaLamai_son(10, 2)\n",
        "print(plus, minus)"
      ],
      "metadata": {
        "id": "4ACwyG4-ZXS4"
      },
      "execution_count": null,
      "outputs": []
    },
    {
      "cell_type": "markdown",
      "source": [
        "##### Unpack iterables"
      ],
      "metadata": {
        "id": "qT90cBbost_7"
      }
    },
    {
      "cell_type": "code",
      "source": [
        "# Unpack iterables with dict\n",
        "def PaLamai(menu, amount):\n",
        "  print(f\"กำลังทำ{menu} จำนวน {amount} จานจ้า\")\n",
        "\n",
        "my_order = {\n",
        "    \"menu\": \"แกงฮังเล\",\n",
        "    \"amount\": 2,\n",
        "}\n",
        "\n",
        "PaLamai(**my_order)"
      ],
      "metadata": {
        "id": "dBmnbr-FakVZ"
      },
      "execution_count": null,
      "outputs": []
    },
    {
      "cell_type": "code",
      "source": [
        "# Unpack iterables with list\n",
        "def give_number():\n",
        "  return 1, 2, 3, 4, 5, 6\n",
        "\n",
        "a, *temp, b = give_number()"
      ],
      "metadata": {
        "id": "SB99PyKsa-Mh"
      },
      "execution_count": null,
      "outputs": []
    },
    {
      "cell_type": "markdown",
      "source": [
        "##### Map function"
      ],
      "metadata": {
        "id": "COaKKPwGtEiy"
      }
    },
    {
      "cell_type": "code",
      "source": [
        "def PaLamai_hello(name):\n",
        "  return \"สวัสดีจ้า\" + name\n",
        "\n",
        "customers = [\"A\", \"B\", \"C\", \"D\"]\n",
        "greetings = map(PaLamai_hello, customers)\n",
        "print(list(greetings))"
      ],
      "metadata": {
        "id": "17UnJxvxb7Qy"
      },
      "execution_count": null,
      "outputs": []
    },
    {
      "cell_type": "markdown",
      "source": [
        "##### Lambda function"
      ],
      "metadata": {
        "id": "vfhL4u4ltLUV"
      }
    },
    {
      "cell_type": "code",
      "source": [
        "greetings = map(lambda c: \"สวัสดีจ้า\"+c, customers)\n",
        "print(list(greetings))"
      ],
      "metadata": {
        "id": "VKNw_bT5tNlN"
      },
      "execution_count": null,
      "outputs": []
    },
    {
      "cell_type": "markdown",
      "source": [
        "## 📍 Session 3: Python Library\n",
        "Explore Python library!"
      ],
      "metadata": {
        "id": "P_MLUT3QbLTb"
      }
    },
    {
      "cell_type": "markdown",
      "source": [
        "### Numpy\n",
        "a Python library used for working with arrays [See more](https://numpy.org/doc/stable/user/quickstart.html)"
      ],
      "metadata": {
        "id": "bE1x3OzAuYcn"
      }
    },
    {
      "cell_type": "code",
      "source": [
        "import numpy as np\n",
        "np.arange(15).reshape(3, 5)"
      ],
      "metadata": {
        "id": "zRGnj4K0iHz_"
      },
      "execution_count": null,
      "outputs": []
    },
    {
      "cell_type": "markdown",
      "source": [
        "### Pandas\n",
        "a fast, powerful, flexible and easy to use open source data analysis and manipulation tool [See more](https://pandas.pydata.org/docs/user_guide/index.html#user-guide)"
      ],
      "metadata": {
        "id": "l3vb11LjuAhd"
      }
    },
    {
      "cell_type": "code",
      "source": [
        "import pandas as pd\n",
        "csv_url = 'https://archive.ics.uci.edu/ml/machine-learning-databases/iris/iris.data'\n",
        "# using the attribute information as the column names\n",
        "col_names = ['Sepal_Length','Sepal_Width','Petal_Length','Petal_Width','Class']\n",
        "iris =  pd.read_csv(csv_url, names = col_names)\n",
        "iris"
      ],
      "metadata": {
        "id": "eKEI1dcJbToB"
      },
      "execution_count": null,
      "outputs": []
    },
    {
      "cell_type": "markdown",
      "source": [
        "### Matplotlib\n",
        "a comprehensive library for creating static, animated, and interactive visualizations. [See more](https://matplotlib.org/stable/gallery/index.html)"
      ],
      "metadata": {
        "id": "_BeL5BuLjJ3N"
      }
    },
    {
      "cell_type": "code",
      "source": [
        "import numpy as np\n",
        "import matplotlib.pyplot as plt\n",
        "\n",
        "np.random.seed(19680801)\n",
        "data = {'a': np.arange(50),\n",
        "        'c': np.random.randint(0, 50, 50),\n",
        "        'd': np.random.randn(50)}\n",
        "data['b'] = data['a'] + 10 * np.random.randn(50)\n",
        "data['d'] = np.abs(data['d']) * 100\n",
        "\n",
        "fig, ax = plt.subplots(figsize=(5, 2.7), layout='constrained')\n",
        "ax.scatter('a', 'b', c='c', s='d', data=data)\n",
        "ax.set_xlabel('entry a')\n",
        "ax.set_ylabel('entry b')"
      ],
      "metadata": {
        "id": "C6FXZl3NbpDu"
      },
      "execution_count": null,
      "outputs": []
    },
    {
      "cell_type": "markdown",
      "source": [
        "### Seaborn\n",
        "a library for making statistical graphics in Python. It builds on top of matplotlib and integrates closely with pandas data structures [See more](https://seaborn.pydata.org/examples/index.html)"
      ],
      "metadata": {
        "id": "Ph0EA2-zjX68"
      }
    },
    {
      "cell_type": "code",
      "source": [
        "import seaborn as sns\n",
        "import matplotlib.pyplot as plt\n",
        "\n",
        "sns.jointplot(data=iris,x='Sepal_Length',y='Sepal_Width',kind='kde',color=\"Purple\")\n",
        "sns.jointplot(data=iris,x='Petal_Length',y='Petal_Width',kind='kde')\n",
        "plt.show()"
      ],
      "metadata": {
        "id": "BNxoFonubrT4"
      },
      "execution_count": null,
      "outputs": []
    },
    {
      "cell_type": "markdown",
      "source": [
        "### Plotly ✨\n",
        "A library to make interactive, publication-quality graphs [See more](https://plotly.com/python/)\n",
        "\n",
        "- [Example Colab with Iris](https://colab.research.google.com/drive/1p1QxXat1hAE3RjQN2uYOSU3bccDniAyO?usp=sharing#scrollTo=ooPo2igcEemY)"
      ],
      "metadata": {
        "id": "o0vtcGZuhtZh"
      }
    },
    {
      "cell_type": "code",
      "source": [
        "import plotly.express as px\n",
        "import plotly\n",
        "fig = px.scatter_3d(iris, x='Petal_Length', y='Sepal_Width', z='Petal_Width',color='Class',title=\"Iris dataset ground truth\")\n",
        "fig.show()"
      ],
      "metadata": {
        "id": "m5iXXLlXbs4t"
      },
      "execution_count": null,
      "outputs": []
    },
    {
      "cell_type": "markdown",
      "source": [
        "### Streamlit ✨\n",
        "a free and open-source framework to rapidly build and share beautiful machine learning and data science web apps"
      ],
      "metadata": {
        "id": "HsTJ0HuAgwIT"
      }
    },
    {
      "cell_type": "code",
      "source": [
        "!npm install localtunnel\n",
        "!pip install -q keras streamlit pillow numpy\n",
        "!pip -q install streamlit\n",
        "!pip -q install pyngrok"
      ],
      "metadata": {
        "id": "4Jxh5kgSbu3u"
      },
      "execution_count": null,
      "outputs": []
    },
    {
      "cell_type": "code",
      "source": [
        "!wget https://github.com/napoles-uach/streamlit_apps/raw/main/Streamlit_Colab/Models/Dog_Cat.h5\n",
        "!mv Dog_Cat.h5 keras_model.h5"
      ],
      "metadata": {
        "id": "IrhEYhrjg01a"
      },
      "execution_count": null,
      "outputs": []
    },
    {
      "cell_type": "code",
      "source": [
        "%%writefile app.py\n",
        "import streamlit as st\n",
        "from img_classification import teachable_machine_classification\n",
        "import keras\n",
        "from PIL import Image, ImageOps\n",
        "import numpy as np\n",
        "st.title(\"Image Classification with Google's Teachable Machine\")\n",
        "st.header(\"Dog vs Cat Classification Example\")\n",
        "st.write(\"Upload your favorite :dog:/:cat: Image for image classification as Dog or Cat\")\n",
        "\n",
        "uploaded_file = st.file_uploader(\"Choose a Dog/Cat jpg pic ...\", type=\"jpg\")\n",
        "if uploaded_file is not None:\n",
        "  image = Image.open(uploaded_file)\n",
        "  st.image(image, caption='Uploaded pic.', use_column_width=True)\n",
        "  st.write(\"\")\n",
        "  st.write(\"Classifying...\")\n",
        "  label = teachable_machine_classification(image, 'keras_model.h5') # Name of the model from Teachablemachine\n",
        "  if label == 0:\n",
        "    st.write(\"Is a :dog:\")\n",
        "  else:\n",
        "    st.write(\"Is a :cat:\")"
      ],
      "metadata": {
        "id": "4UQb2IyRhHbR"
      },
      "execution_count": null,
      "outputs": []
    },
    {
      "cell_type": "code",
      "source": [
        "%%writefile img_classification.py\n",
        "import tensorflow.keras\n",
        "from PIL import Image, ImageOps\n",
        "import numpy as np\n",
        "\n",
        "def teachable_machine_classification(img, weights_file):\n",
        "    # Load the model\n",
        "    model = tensorflow.keras.models.load_model(weights_file)\n",
        "\n",
        "    # Create the array of the right shape to feed into the keras model\n",
        "    data = np.ndarray(shape=(1, 224, 224, 3), dtype=np.float32)\n",
        "    image = img\n",
        "    #image sizing\n",
        "    size = (224, 224)\n",
        "    image = ImageOps.fit(image, size, Image.ANTIALIAS)\n",
        "\n",
        "    #turn the image into a numpy array\n",
        "    image_array = np.asarray(image)\n",
        "    # Normalize the image\n",
        "    normalized_image_array = (image_array.astype(np.float32) / 127.0) - 1\n",
        "\n",
        "    # Load the image into the array\n",
        "    data[0] = normalized_image_array  # (Not sure if this is needed, but gives an error!!!)\n",
        "\n",
        "    # run the inference\n",
        "    prediction = model.predict(data)\n",
        "    return np.argmax(prediction) # return position of the highest probability"
      ],
      "metadata": {
        "id": "Zmb2-69nhH6b"
      },
      "execution_count": null,
      "outputs": []
    },
    {
      "cell_type": "code",
      "source": [
        "!streamlit run app.py &>/content/logs.txt &"
      ],
      "metadata": {
        "id": "QMiYoJdjhLgj"
      },
      "execution_count": null,
      "outputs": []
    },
    {
      "cell_type": "code",
      "source": [
        "!npx localtunnel --port 8501"
      ],
      "metadata": {
        "id": "nVa3VyLVhO2i"
      },
      "execution_count": null,
      "outputs": []
    }
  ]
}